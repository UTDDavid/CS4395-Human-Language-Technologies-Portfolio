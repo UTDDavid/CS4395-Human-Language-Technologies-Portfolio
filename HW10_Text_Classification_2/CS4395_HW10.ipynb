{
  "cells": [
    {
      "cell_type": "markdown",
      "metadata": {
        "id": "0XLr_T55k4yY"
      },
      "source": [
        "# **Assignment 7 - Text Classification**\n",
        "David Nguyen\n",
        "<br><br/>\n",
        "Dataset: https://www.kaggle.com/datasets/deepcontractor/200k-short-texts-for-humor-detection\n",
        "<br><br/>\n",
        "## Describe the data set and what the model should be able to predict.\n",
        "---\n",
        "This dataset classify if a piece of text is funny / a joke or not.\n",
        "\n",
        "\n",
        "\n",
        "The model should be able to predict if a given piece of text is a joke or not.\n"
      ]
    },
    {
      "cell_type": "code",
      "execution_count": 13,
      "metadata": {
        "colab": {
          "base_uri": "https://localhost:8080/"
        },
        "id": "1aG5HAXQrVKJ",
        "outputId": "bab1f49d-5329-4a2b-f494-7d20cbfdfb5c"
      },
      "outputs": [
        {
          "name": "stderr",
          "output_type": "stream",
          "text": [
            "[nltk_data] Downloading package stopwords to\n",
            "[nltk_data]     C:\\Users\\ndavi\\AppData\\Roaming\\nltk_data...\n",
            "[nltk_data]   Package stopwords is already up-to-date!\n"
          ]
        }
      ],
      "source": [
        "# Import libraries\n",
        "import nltk\n",
        "nltk.download('stopwords')\n",
        "import pandas as pd\n",
        "\n",
        "import tensorflow as tf\n",
        "from tensorflow.keras.preprocessing.text import Tokenizer\n",
        "from tensorflow.keras import layers, models\n",
        "\n",
        "from sklearn.preprocessing import LabelEncoder\n",
        "import pickle\n",
        "import numpy as np\n",
        "import pandas as pd\n",
        "\n",
        "# set seed for reproducibility\n",
        "np.random.seed(1234)"
      ]
    },
    {
      "cell_type": "code",
      "execution_count": 15,
      "metadata": {
        "colab": {
          "base_uri": "https://localhost:8080/"
        },
        "id": "yHloxc0-rZgY",
        "outputId": "6b7a5e3d-ff5c-45a2-e18b-166980db1024"
      },
      "outputs": [
        {
          "name": "stdout",
          "output_type": "stream",
          "text": [
            "rows and columns: (200000, 2)\n",
            "                                                text  humor\n",
            "0  Joe biden rules out 2020 bid: 'guys, i'm not r...      0\n",
            "1  Watch: darvish gave hitter whiplash with slow ...      0\n",
            "2  What do you call a turtle without its shell? d...      1\n",
            "3      5 reasons the 2016 election feels so personal      0\n",
            "4  Pasco police shot mexican migrant from behind,...      0\n",
            "\n",
            "rows and columns: (1000, 2)\n"
          ]
        }
      ],
      "source": [
        "# read in dataset\n",
        "df = pd.read_csv('./dataset.csv', header=0, usecols=[0,1], encoding='latin-1')\n",
        "df[\"humor\"] = df[\"humor\"].astype(int) # turns humor column's T/F to int 1/0\n",
        "print('rows and columns:', df.shape)\n",
        "print(df.head())\n",
        "\n",
        "# truncate dataframe cause collab session crashes\n",
        "df = df.truncate(after=999)\n",
        "print('\\nrows and columns:', df.shape)"
      ]
    },
    {
      "cell_type": "markdown",
      "metadata": {
        "id": "dlIVpHhdsA1U"
      },
      "source": [
        "#  Create a graph showing the distribution of the target classes\n",
        "\n",
        "---\n",
        "\n"
      ]
    },
    {
      "cell_type": "code",
      "execution_count": 18,
      "metadata": {
        "colab": {
          "base_uri": "https://localhost:8080/",
          "height": 523
        },
        "id": "_INhbEImsC_t",
        "outputId": "c3e6a022-cba0-4e8b-c74d-20d7bc82c2fb"
      },
      "outputs": [
        {
          "data": {
            "text/plain": [
              "<seaborn.axisgrid.FacetGrid at 0x24cf0d38710>"
            ]
          },
          "execution_count": 18,
          "metadata": {},
          "output_type": "execute_result"
        },
        {
          "data": {
            "image/png": "[encoded data removed]",
            "text/plain": [
              "<Figure size 500x500 with 1 Axes>"
            ]
          },
          "metadata": {},
          "output_type": "display_data"
        }
      ],
      "source": [
        "# Create a graph showing the distribution of the target classes\n",
        "import seaborn as sb\n",
        "\n",
        "# set up X and y\n",
        "X = df.text\n",
        "y = df.humor\n",
        "\n",
        "df_y = pd.DataFrame(y,columns=['label'])\n",
        "sb.catplot(x='humor', kind='count', data=df)"
      ]
    },
    {
      "cell_type": "markdown",
      "metadata": {
        "id": "2aLzR-RxtnS2"
      },
      "source": [
        "#   Divide into train/test. \n",
        "---\n",
        "\n",
        "\n"
      ]
    },
    {
      "cell_type": "code",
      "execution_count": 19,
      "metadata": {
        "colab": {
          "base_uri": "https://localhost:8080/"
        },
        "id": "B9wC6_SwtYJy",
        "outputId": "9bfe03dd-85a6-44b2-9544-bffe8a21f5f3"
      },
      "outputs": [
        {
          "name": "stdout",
          "output_type": "stream",
          "text": [
            "train data size:  (781, 2)\n",
            "test data size:  (219, 2)\n"
          ]
        }
      ],
      "source": [
        "# split df into train and test\n",
        "i = np.random.rand(len(df)) < 0.8\n",
        "train = df[i]\n",
        "test = df[~i]\n",
        "print(\"train data size: \", train.shape)\n",
        "print(\"test data size: \", test.shape)"
      ]
    },
    {
      "cell_type": "code",
      "execution_count": 20,
      "metadata": {
        "colab": {
          "base_uri": "https://localhost:8080/"
        },
        "id": "5uYESPAlscLW",
        "outputId": "40a18be5-cf9e-4265-d3ea-10ed0f3a40a6"
      },
      "outputs": [
        {
          "name": "stdout",
          "output_type": "stream",
          "text": [
            "train shapes: (781, 25000) (781,)\n",
            "test shapes: (219, 25000) (219,)\n",
            "test first five labels: [1 0 1 1 0]\n"
          ]
        }
      ],
      "source": [
        "# set up X and Y\n",
        "num_labels = 2\n",
        "vocab_size = 25000\n",
        "batch_size = 100\n",
        "\n",
        "# fit the tokenizer on the training data\n",
        "tokenizer = Tokenizer(num_words=vocab_size)\n",
        "tokenizer.fit_on_texts(train.text)\n",
        "\n",
        "x_train = tokenizer.texts_to_matrix(train.text, mode='tfidf')\n",
        "x_test = tokenizer.texts_to_matrix(test.text, mode='tfidf')\n",
        "\n",
        "encoder = LabelEncoder()\n",
        "encoder.fit(train.humor)\n",
        "y_train = encoder.transform(train.humor)\n",
        "y_test = encoder.transform(test.humor)\n",
        "\n",
        "# check shape\n",
        "print(\"train shapes:\", x_train.shape, y_train.shape)\n",
        "print(\"test shapes:\", x_test.shape, y_test.shape)\n",
        "print(\"test first five labels:\", y_test[:5])"
      ]
    },
    {
      "cell_type": "markdown",
      "metadata": {
        "id": "bgDWassxuetD"
      },
      "source": [
        "# Create a sequential model and evaluate on the test data\n",
        "---\n"
      ]
    },
    {
      "cell_type": "code",
      "execution_count": 21,
      "metadata": {
        "colab": {
          "base_uri": "https://localhost:8080/"
        },
        "id": "ekz7eVYyuiX5",
        "outputId": "901a6afa-e178-4679-cb17-b1945115d436"
      },
      "outputs": [
        {
          "name": "stdout",
          "output_type": "stream",
          "text": [
            "Epoch 1/30\n",
            "8/8 [==============================] - 1s 25ms/step - loss: 0.6973 - accuracy: 0.4729 - val_loss: 0.6948 - val_accuracy: 0.5063\n",
            "Epoch 2/30\n",
            "8/8 [==============================] - 0s 9ms/step - loss: 0.6794 - accuracy: 0.6624 - val_loss: 0.6882 - val_accuracy: 0.5696\n",
            "Epoch 3/30\n",
            "8/8 [==============================] - 0s 9ms/step - loss: 0.6624 - accuracy: 0.8148 - val_loss: 0.6812 - val_accuracy: 0.6709\n",
            "Epoch 4/30\n",
            "8/8 [==============================] - 0s 10ms/step - loss: 0.6403 - accuracy: 0.9017 - val_loss: 0.6717 - val_accuracy: 0.6835\n",
            "Epoch 5/30\n",
            "8/8 [==============================] - 0s 10ms/step - loss: 0.6104 - accuracy: 0.9487 - val_loss: 0.6585 - val_accuracy: 0.7342\n",
            "Epoch 6/30\n",
            "8/8 [==============================] - 0s 10ms/step - loss: 0.5714 - accuracy: 0.9630 - val_loss: 0.6416 - val_accuracy: 0.7342\n",
            "Epoch 7/30\n",
            "8/8 [==============================] - 0s 10ms/step - loss: 0.5236 - accuracy: 0.9715 - val_loss: 0.6205 - val_accuracy: 0.7722\n",
            "Epoch 8/30\n",
            "8/8 [==============================] - 0s 10ms/step - loss: 0.4688 - accuracy: 0.9801 - val_loss: 0.5964 - val_accuracy: 0.7975\n",
            "Epoch 9/30\n",
            "8/8 [==============================] - 0s 11ms/step - loss: 0.4098 - accuracy: 0.9886 - val_loss: 0.5697 - val_accuracy: 0.7975\n",
            "Epoch 10/30\n",
            "8/8 [==============================] - 0s 10ms/step - loss: 0.3501 - accuracy: 0.9900 - val_loss: 0.5431 - val_accuracy: 0.7975\n",
            "Epoch 11/30\n",
            "8/8 [==============================] - 0s 10ms/step - loss: 0.2938 - accuracy: 0.9972 - val_loss: 0.5179 - val_accuracy: 0.7975\n",
            "Epoch 12/30\n",
            "8/8 [==============================] - 0s 10ms/step - loss: 0.2436 - accuracy: 0.9972 - val_loss: 0.4952 - val_accuracy: 0.8101\n",
            "Epoch 13/30\n",
            "8/8 [==============================] - 0s 10ms/step - loss: 0.2009 - accuracy: 0.9972 - val_loss: 0.4752 - val_accuracy: 0.8101\n",
            "Epoch 14/30\n",
            "8/8 [==============================] - 0s 9ms/step - loss: 0.1654 - accuracy: 0.9972 - val_loss: 0.4582 - val_accuracy: 0.8228\n",
            "Epoch 15/30\n",
            "8/8 [==============================] - 0s 10ms/step - loss: 0.1364 - accuracy: 0.9986 - val_loss: 0.4441 - val_accuracy: 0.8228\n",
            "Epoch 16/30\n",
            "8/8 [==============================] - 0s 10ms/step - loss: 0.1133 - accuracy: 0.9986 - val_loss: 0.4324 - val_accuracy: 0.8354\n",
            "Epoch 17/30\n",
            "8/8 [==============================] - 0s 10ms/step - loss: 0.0950 - accuracy: 0.9986 - val_loss: 0.4221 - val_accuracy: 0.8481\n",
            "Epoch 18/30\n",
            "8/8 [==============================] - 0s 9ms/step - loss: 0.0802 - accuracy: 0.9986 - val_loss: 0.4134 - val_accuracy: 0.8354\n",
            "Epoch 19/30\n",
            "8/8 [==============================] - 0s 9ms/step - loss: 0.0684 - accuracy: 0.9986 - val_loss: 0.4065 - val_accuracy: 0.8354\n",
            "Epoch 20/30\n",
            "8/8 [==============================] - 0s 9ms/step - loss: 0.0589 - accuracy: 0.9986 - val_loss: 0.4004 - val_accuracy: 0.8354\n",
            "Epoch 21/30\n",
            "8/8 [==============================] - 0s 9ms/step - loss: 0.0513 - accuracy: 0.9986 - val_loss: 0.3952 - val_accuracy: 0.8354\n",
            "Epoch 22/30\n",
            "8/8 [==============================] - 0s 9ms/step - loss: 0.0451 - accuracy: 0.9986 - val_loss: 0.3908 - val_accuracy: 0.8228\n",
            "Epoch 23/30\n",
            "8/8 [==============================] - 0s 9ms/step - loss: 0.0400 - accuracy: 0.9986 - val_loss: 0.3871 - val_accuracy: 0.8101\n",
            "Epoch 24/30\n",
            "8/8 [==============================] - 0s 10ms/step - loss: 0.0357 - accuracy: 0.9986 - val_loss: 0.3839 - val_accuracy: 0.8101\n",
            "Epoch 25/30\n",
            "8/8 [==============================] - 0s 9ms/step - loss: 0.0320 - accuracy: 0.9986 - val_loss: 0.3811 - val_accuracy: 0.7975\n",
            "Epoch 26/30\n",
            "8/8 [==============================] - 0s 9ms/step - loss: 0.0290 - accuracy: 0.9986 - val_loss: 0.3781 - val_accuracy: 0.7975\n",
            "Epoch 27/30\n",
            "8/8 [==============================] - 0s 9ms/step - loss: 0.0264 - accuracy: 0.9986 - val_loss: 0.3758 - val_accuracy: 0.7975\n",
            "Epoch 28/30\n",
            "8/8 [==============================] - 0s 9ms/step - loss: 0.0239 - accuracy: 0.9986 - val_loss: 0.3740 - val_accuracy: 0.7975\n",
            "Epoch 29/30\n",
            "8/8 [==============================] - 0s 9ms/step - loss: 0.0219 - accuracy: 1.0000 - val_loss: 0.3724 - val_accuracy: 0.7848\n",
            "Epoch 30/30\n",
            "8/8 [==============================] - 0s 9ms/step - loss: 0.0200 - accuracy: 1.0000 - val_loss: 0.3707 - val_accuracy: 0.7848\n"
          ]
        }
      ],
      "source": [
        "# fit model\n",
        "model = models.Sequential()\n",
        "model.add(layers.Dense(16, input_dim=vocab_size, kernel_initializer='normal', activation='relu'))\n",
        "model.add(layers.Dense(1, kernel_initializer='normal', activation='sigmoid'))\n",
        " \n",
        "model.compile(loss='binary_crossentropy',\n",
        "              optimizer='adam',\n",
        "              metrics=['accuracy'])\n",
        " \n",
        "history = model.fit(x_train, y_train,\n",
        "                    batch_size=batch_size,\n",
        "                    epochs=30,\n",
        "                    verbose=1,\n",
        "                    validation_split=0.1)\n"
      ]
    },
    {
      "cell_type": "code",
      "execution_count": 22,
      "metadata": {
        "colab": {
          "base_uri": "https://localhost:8080/"
        },
        "id": "Rf4F2CmCyD_O",
        "outputId": "459dfdc7-49a9-4872-d2ed-41868899735c"
      },
      "outputs": [
        {
          "name": "stdout",
          "output_type": "stream",
          "text": [
            "3/3 [==============================] - 0s 3ms/step - loss: 0.4449 - accuracy: 0.8037\n",
            "Accuracy:  0.8036529421806335\n",
            "[0.4449029564857483, 0.8036529421806335]\n"
          ]
        }
      ],
      "source": [
        "# evaluate\n",
        "score = model.evaluate(x_test, y_test, batch_size=batch_size, verbose=1)\n",
        "print('Accuracy: ', score[1])\n",
        "print(score)"
      ]
    },
    {
      "cell_type": "code",
      "execution_count": 23,
      "metadata": {
        "colab": {
          "base_uri": "https://localhost:8080/"
        },
        "id": "7G0ZA-C6yJQW",
        "outputId": "9a077040-c849-4a01-80a7-cbfbd24a7dad"
      },
      "outputs": [
        {
          "name": "stdout",
          "output_type": "stream",
          "text": [
            "7/7 [==============================] - 0s 1ms/step\n"
          ]
        },
        {
          "data": {
            "text/plain": [
              "array([[0.9184874 ],\n",
              "       [0.04617033],\n",
              "       [0.70611864],\n",
              "       [0.724794  ],\n",
              "       [0.56553006],\n",
              "       [0.6064179 ],\n",
              "       [0.4050826 ],\n",
              "       [0.9821706 ],\n",
              "       [0.13977507],\n",
              "       [0.050362  ]], dtype=float32)"
            ]
          },
          "execution_count": 23,
          "metadata": {},
          "output_type": "execute_result"
        }
      ],
      "source": [
        "# get predictions so we can calculate more metrics\n",
        "pred = model.predict(x_test)\n",
        "pred_labels = [1 if p>0.5 else 0 for p in pred]\n",
        "pred[:10]\n"
      ]
    },
    {
      "cell_type": "code",
      "execution_count": 24,
      "metadata": {
        "colab": {
          "base_uri": "https://localhost:8080/"
        },
        "id": "i_VFmLvvyNcn",
        "outputId": "2ec0020e-cb96-40ce-ad12-57732b3aabab"
      },
      "outputs": [
        {
          "data": {
            "text/plain": [
              "[1, 0, 1, 1, 1, 1, 0, 1, 0, 0]"
            ]
          },
          "execution_count": 24,
          "metadata": {},
          "output_type": "execute_result"
        }
      ],
      "source": [
        "pred_labels[:10]"
      ]
    },
    {
      "cell_type": "code",
      "execution_count": 25,
      "metadata": {
        "colab": {
          "base_uri": "https://localhost:8080/"
        },
        "id": "z_xg1hLDyT8D",
        "outputId": "ec48ca67-dff6-4bbf-8a08-93829f622532"
      },
      "outputs": [
        {
          "name": "stdout",
          "output_type": "stream",
          "text": [
            "accuracy score:  0.8036529680365296\n",
            "precision score:  0.7698412698412699\n",
            "recall score:  0.8738738738738738\n",
            "f1 score:  0.818565400843882\n"
          ]
        }
      ],
      "source": [
        "from sklearn.metrics import accuracy_score, precision_score, recall_score, f1_score\n",
        "print('accuracy score: ', accuracy_score(y_test, pred_labels))\n",
        "print('precision score: ', precision_score(y_test, pred_labels))\n",
        "print('recall score: ', recall_score(y_test, pred_labels))\n",
        "print('f1 score: ', f1_score(y_test, pred_labels))"
      ]
    },
    {
      "attachments": {},
      "cell_type": "markdown",
      "metadata": {
        "id": "a-9rTTYayY9w"
      },
      "source": [
        "# Try a different architecture like RNN, CNN, etc and evaluate on the test data\n",
        "---\n",
        "CNN"
      ]
    },
    {
      "cell_type": "code",
      "execution_count": 259,
      "metadata": {
        "id": "5waP2v6l2sqP"
      },
      "outputs": [],
      "source": [
        "import tensorflow as tf\n",
        "from tensorflow.keras import datasets, layers, models, preprocessing"
      ]
    },
    {
      "cell_type": "code",
      "execution_count": 352,
      "metadata": {
        "id": "VFfuHhQ-2yyT"
      },
      "outputs": [],
      "source": [
        "# build a Sequential model 1D convnet\n",
        "\n",
        "model = models.Sequential()\n",
        "model.add(layers.Embedding(vocab_size, 100)) \n",
        "model.add(layers.Conv1D(128, 5, activation='relu')) \n",
        "model.add(layers.GlobalMaxPooling1D())\n",
        "model.add(layers.Dense(10, activation='relu'))\n",
        "model.add(layers.Dense(1, activation='sigmoid'))"
      ]
    },
    {
      "cell_type": "code",
      "execution_count": 353,
      "metadata": {
        "colab": {
          "base_uri": "https://localhost:8080/"
        },
        "id": "0XTA1sK74wUd",
        "outputId": "6b241b98-8d78-4206-982f-591b77066f20"
      },
      "outputs": [
        {
          "name": "stdout",
          "output_type": "stream",
          "text": [
            "Model: \"sequential_103\"\n",
            "_________________________________________________________________\n",
            " Layer (type)                Output Shape              Param #   \n",
            "=================================================================\n",
            " embedding_86 (Embedding)    (None, None, 100)         2500000   \n",
            "                                                                 \n",
            " conv1d_5 (Conv1D)           (None, None, 128)         64128     \n",
            "                                                                 \n",
            " global_max_pooling1d_5 (Glo  (None, 128)              0         \n",
            " balMaxPooling1D)                                                \n",
            "                                                                 \n",
            " dense_221 (Dense)           (None, 10)                1290      \n",
            "                                                                 \n",
            " dense_222 (Dense)           (None, 1)                 11        \n",
            "                                                                 \n",
            "=================================================================\n",
            "Total params: 2,565,429\n",
            "Trainable params: 2,565,429\n",
            "Non-trainable params: 0\n",
            "_________________________________________________________________\n"
          ]
        }
      ],
      "source": [
        "model.summary()\n"
      ]
    },
    {
      "cell_type": "code",
      "execution_count": 354,
      "metadata": {
        "id": "bRfqFdS248Zc"
      },
      "outputs": [],
      "source": [
        "# compile\n",
        "model.compile(loss='binary_crossentropy',\n",
        "              optimizer='adam',\n",
        "              metrics=['accuracy'])"
      ]
    },
    {
      "cell_type": "code",
      "execution_count": 355,
      "metadata": {
        "colab": {
          "base_uri": "https://localhost:8080/"
        },
        "id": "FGUlml-e7cmt",
        "outputId": "024385c4-5aa8-4366-9cde-a2b734f43c7f"
      },
      "outputs": [
        {
          "name": "stdout",
          "output_type": "stream",
          "text": [
            "Epoch 1/10\n",
            "7/7 [==============================] - 29s 4s/step - loss: 0.6863 - accuracy: 0.5785 - val_loss: 0.6825 - val_accuracy: 0.6178\n",
            "Epoch 2/10\n",
            "7/7 [==============================] - 26s 4s/step - loss: 0.6701 - accuracy: 0.6442 - val_loss: 0.6712 - val_accuracy: 0.6051\n",
            "Epoch 3/10\n",
            "7/7 [==============================] - 27s 4s/step - loss: 0.6502 - accuracy: 0.6763 - val_loss: 0.6616 - val_accuracy: 0.6115\n",
            "Epoch 4/10\n",
            "7/7 [==============================] - 28s 4s/step - loss: 0.6282 - accuracy: 0.6827 - val_loss: 0.6474 - val_accuracy: 0.5987\n",
            "Epoch 5/10\n",
            "7/7 [==============================] - 29s 4s/step - loss: 0.6031 - accuracy: 0.6907 - val_loss: 0.6375 - val_accuracy: 0.6242\n",
            "Epoch 6/10\n",
            "7/7 [==============================] - 38s 5s/step - loss: 0.5869 - accuracy: 0.6859 - val_loss: 0.6359 - val_accuracy: 0.6115\n",
            "Epoch 7/10\n",
            "7/7 [==============================] - 31s 4s/step - loss: 0.5692 - accuracy: 0.7163 - val_loss: 0.6196 - val_accuracy: 0.6369\n",
            "Epoch 8/10\n",
            "7/7 [==============================] - 31s 4s/step - loss: 0.5462 - accuracy: 0.7356 - val_loss: 0.6078 - val_accuracy: 0.6688\n",
            "Epoch 9/10\n",
            "7/7 [==============================] - 30s 4s/step - loss: 0.5316 - accuracy: 0.7436 - val_loss: 0.5991 - val_accuracy: 0.6688\n",
            "Epoch 10/10\n",
            "7/7 [==============================] - 30s 4s/step - loss: 0.5200 - accuracy: 0.7436 - val_loss: 0.5909 - val_accuracy: 0.6688\n"
          ]
        }
      ],
      "source": [
        "# train\n",
        "\n",
        "history = model.fit(x_train, y_train,\n",
        "                    batch_size=batch_size,\n",
        "                    epochs=10,\n",
        "                    verbose=1,\n",
        "                    validation_split=0.2)"
      ]
    },
    {
      "cell_type": "code",
      "execution_count": 356,
      "metadata": {},
      "outputs": [
        {
          "name": "stdout",
          "output_type": "stream",
          "text": [
            "3/3 [==============================] - 2s 635ms/step - loss: 0.7020 - accuracy: 0.5982\n",
            "Accuracy:  0.5981734991073608\n",
            "[0.70196533203125, 0.5981734991073608]\n"
          ]
        }
      ],
      "source": [
        "# evaluate\n",
        "score = model.evaluate(x_test, y_test, batch_size=batch_size, verbose=1)\n",
        "print('Accuracy: ', score[1])\n",
        "print(score)"
      ]
    },
    {
      "cell_type": "code",
      "execution_count": 357,
      "metadata": {},
      "outputs": [
        {
          "name": "stdout",
          "output_type": "stream",
          "text": [
            "7/7 [==============================] - 2s 340ms/step\n"
          ]
        },
        {
          "data": {
            "text/plain": [
              "array([[0.6611543 ],\n",
              "       [0.66109216],\n",
              "       [0.675054  ],\n",
              "       [0.83450377],\n",
              "       [0.86205626],\n",
              "       [0.8364781 ],\n",
              "       [0.6485921 ],\n",
              "       [0.82774544],\n",
              "       [0.876327  ],\n",
              "       [0.36247322]], dtype=float32)"
            ]
          },
          "execution_count": 357,
          "metadata": {},
          "output_type": "execute_result"
        }
      ],
      "source": [
        "# get predictions so we can calculate more metrics\n",
        "pred = model.predict(x_test)\n",
        "pred_labels = [1 if p>0.5 else 0 for p in pred]\n",
        "pred[:10]\n"
      ]
    },
    {
      "cell_type": "code",
      "execution_count": 358,
      "metadata": {},
      "outputs": [
        {
          "data": {
            "text/plain": [
              "[1, 1, 1, 1, 1, 1, 1, 1, 1, 0]"
            ]
          },
          "execution_count": 358,
          "metadata": {},
          "output_type": "execute_result"
        }
      ],
      "source": [
        "pred_labels[:10]"
      ]
    },
    {
      "cell_type": "code",
      "execution_count": 359,
      "metadata": {},
      "outputs": [
        {
          "name": "stdout",
          "output_type": "stream",
          "text": [
            "accuracy score:  0.5981735159817352\n",
            "precision score:  0.5583756345177665\n",
            "recall score:  0.990990990990991\n",
            "f1 score:  0.7142857142857143\n"
          ]
        }
      ],
      "source": [
        "from sklearn.metrics import accuracy_score, precision_score, recall_score, f1_score\n",
        "print('accuracy score: ', accuracy_score(y_test, pred_labels))\n",
        "print('precision score: ', precision_score(y_test, pred_labels))\n",
        "print('recall score: ', recall_score(y_test, pred_labels))\n",
        "print('f1 score: ', f1_score(y_test, pred_labels))"
      ]
    },
    {
      "attachments": {},
      "cell_type": "markdown",
      "metadata": {},
      "source": [
        "# Try different embedding approaches and evaluate on the test data\n",
        "---"
      ]
    },
    {
      "cell_type": "code",
      "execution_count": 341,
      "metadata": {},
      "outputs": [],
      "source": [
        "# fit model\n",
        "model = models.Sequential()\n",
        "model.add(layers.Dense(64, input_dim=vocab_size, activation='relu'))\n",
        "model.add(layers.Embedding(vocab_size, 16, input_length=100))\n",
        "model.add(layers.Flatten())\n",
        "model.add(layers.Dense(1, kernel_initializer='normal', activation='sigmoid'))\n",
        "\n",
        "\n"
      ]
    },
    {
      "cell_type": "code",
      "execution_count": 342,
      "metadata": {},
      "outputs": [
        {
          "name": "stdout",
          "output_type": "stream",
          "text": [
            "Model: \"sequential_102\"\n",
            "_________________________________________________________________\n",
            " Layer (type)                Output Shape              Param #   \n",
            "=================================================================\n",
            " dense_219 (Dense)           (None, 64)                1600064   \n",
            "                                                                 \n",
            " embedding_85 (Embedding)    (None, 64, 16)            400000    \n",
            "                                                                 \n",
            " flatten_35 (Flatten)        (None, 1024)              0         \n",
            "                                                                 \n",
            " dense_220 (Dense)           (None, 1)                 1025      \n",
            "                                                                 \n",
            "=================================================================\n",
            "Total params: 2,001,089\n",
            "Trainable params: 2,001,089\n",
            "Non-trainable params: 0\n",
            "_________________________________________________________________\n"
          ]
        }
      ],
      "source": [
        "model.summary()"
      ]
    },
    {
      "cell_type": "code",
      "execution_count": 343,
      "metadata": {},
      "outputs": [],
      "source": [
        "model.compile(loss='binary_crossentropy',\n",
        "              optimizer='adam',\n",
        "              metrics=['accuracy'])\n",
        "\n"
      ]
    },
    {
      "cell_type": "code",
      "execution_count": 344,
      "metadata": {},
      "outputs": [
        {
          "name": "stdout",
          "output_type": "stream",
          "text": [
            "Epoch 1/10\n",
            "WARNING:tensorflow:Gradients do not exist for variables ['dense_219/kernel:0', 'dense_219/bias:0'] when minimizing the loss. If you're using `model.compile()`, did you forget to provide a `loss` argument?\n",
            "WARNING:tensorflow:Gradients do not exist for variables ['dense_219/kernel:0', 'dense_219/bias:0'] when minimizing the loss. If you're using `model.compile()`, did you forget to provide a `loss` argument?\n",
            "WARNING:tensorflow:Gradients do not exist for variables ['dense_219/kernel:0', 'dense_219/bias:0'] when minimizing the loss. If you're using `model.compile()`, did you forget to provide a `loss` argument?\n",
            "WARNING:tensorflow:Gradients do not exist for variables ['dense_219/kernel:0', 'dense_219/bias:0'] when minimizing the loss. If you're using `model.compile()`, did you forget to provide a `loss` argument?\n",
            "7/7 [==============================] - 1s 30ms/step - loss: 0.6941 - accuracy: 0.4920 - val_loss: 0.6931 - val_accuracy: 0.5032\n",
            "Epoch 2/10\n",
            "7/7 [==============================] - 0s 14ms/step - loss: 0.6931 - accuracy: 0.5080 - val_loss: 0.6933 - val_accuracy: 0.5032\n",
            "Epoch 3/10\n",
            "7/7 [==============================] - 0s 12ms/step - loss: 0.6931 - accuracy: 0.5080 - val_loss: 0.6935 - val_accuracy: 0.5032\n",
            "Epoch 4/10\n",
            "7/7 [==============================] - 0s 13ms/step - loss: 0.6932 - accuracy: 0.5080 - val_loss: 0.6934 - val_accuracy: 0.5032\n",
            "Epoch 5/10\n",
            "7/7 [==============================] - 0s 13ms/step - loss: 0.6932 - accuracy: 0.5080 - val_loss: 0.6931 - val_accuracy: 0.5032\n",
            "Epoch 6/10\n",
            "7/7 [==============================] - 0s 12ms/step - loss: 0.6931 - accuracy: 0.5080 - val_loss: 0.6931 - val_accuracy: 0.5032\n",
            "Epoch 7/10\n",
            "7/7 [==============================] - 0s 13ms/step - loss: 0.6932 - accuracy: 0.5016 - val_loss: 0.6932 - val_accuracy: 0.4968\n",
            "Epoch 8/10\n",
            "7/7 [==============================] - 0s 12ms/step - loss: 0.6941 - accuracy: 0.4920 - val_loss: 0.6934 - val_accuracy: 0.4968\n",
            "Epoch 9/10\n",
            "7/7 [==============================] - 0s 11ms/step - loss: 0.6937 - accuracy: 0.4920 - val_loss: 0.6933 - val_accuracy: 0.4968\n",
            "Epoch 10/10\n",
            "7/7 [==============================] - 0s 12ms/step - loss: 0.6933 - accuracy: 0.4920 - val_loss: 0.6932 - val_accuracy: 0.5032\n"
          ]
        }
      ],
      "source": [
        "# train\n",
        "\n",
        "history = model.fit(x_train, y_train,\n",
        "                    batch_size=batch_size,\n",
        "                    epochs=10,\n",
        "                    verbose=1,\n",
        "                    validation_split=0.2)"
      ]
    },
    {
      "cell_type": "code",
      "execution_count": 345,
      "metadata": {},
      "outputs": [
        {
          "name": "stdout",
          "output_type": "stream",
          "text": [
            "3/3 [==============================] - 0s 4ms/step - loss: 0.6931 - accuracy: 0.5068\n",
            "Accuracy:  0.5068492889404297\n",
            "[0.6930534243583679, 0.5068492889404297]\n"
          ]
        }
      ],
      "source": [
        "# evaluate\n",
        "score = model.evaluate(x_test, y_test, batch_size=batch_size, verbose=1)\n",
        "print('Accuracy: ', score[1])\n",
        "print(score)"
      ]
    },
    {
      "cell_type": "code",
      "execution_count": 346,
      "metadata": {},
      "outputs": [
        {
          "name": "stdout",
          "output_type": "stream",
          "text": [
            "7/7 [==============================] - 0s 2ms/step\n"
          ]
        },
        {
          "data": {
            "text/plain": [
              "array([[0.50697374],\n",
              "       [0.50697374],\n",
              "       [0.50697374],\n",
              "       [0.50697374],\n",
              "       [0.50697374],\n",
              "       [0.50697374],\n",
              "       [0.50697374],\n",
              "       [0.50697374],\n",
              "       [0.50697374],\n",
              "       [0.50697374]], dtype=float32)"
            ]
          },
          "execution_count": 346,
          "metadata": {},
          "output_type": "execute_result"
        }
      ],
      "source": [
        "# get predictions so we can calculate more metrics\n",
        "pred = model.predict(x_test)\n",
        "pred_labels = [1 if p>0.5 else 0 for p in pred]\n",
        "pred[:10]"
      ]
    },
    {
      "cell_type": "code",
      "execution_count": 348,
      "metadata": {},
      "outputs": [
        {
          "data": {
            "text/plain": [
              "[1, 1, 1, 1, 1, 1, 1, 1, 1, 1]"
            ]
          },
          "execution_count": 348,
          "metadata": {},
          "output_type": "execute_result"
        }
      ],
      "source": [
        "pred_labels[:10]"
      ]
    },
    {
      "cell_type": "code",
      "execution_count": 349,
      "metadata": {},
      "outputs": [
        {
          "name": "stdout",
          "output_type": "stream",
          "text": [
            "accuracy score:  0.5068493150684932\n",
            "precision score:  0.5068493150684932\n",
            "recall score:  1.0\n",
            "f1 score:  0.6727272727272727\n"
          ]
        }
      ],
      "source": [
        "from sklearn.metrics import accuracy_score, precision_score, recall_score, f1_score\n",
        "print('accuracy score: ', accuracy_score(y_test, pred_labels))\n",
        "print('precision score: ', precision_score(y_test, pred_labels))\n",
        "print('recall score: ', recall_score(y_test, pred_labels))\n",
        "print('f1 score: ', f1_score(y_test, pred_labels))"
      ]
    },
    {
      "attachments": {},
      "cell_type": "markdown",
      "metadata": {},
      "source": [
        "# analysis of the performance of various approaches\n",
        "---\n",
        "\n",
        "In accuracy, the Sequential model was the best and beat the CNN model and embedding approaches model by a large difference. In order from first to last, the scores for the models were 0.80, 0.60, and 0.51 respectively.\n",
        "In precision, again, the sequential model beat both of the other models by relatively the same large difference/margin as in accuracy as the sequential model got 0.77, while the CNN model had 0.56 and third model had 0.51.\n",
        "In recall score the situation was now different as the CNN model and embedding approaches model was able to get a score of 1, while the Sequential model had 0.87.\n",
        "In the f1 score, the Sequential model won again with a 0.82 and the CNN had 0.71 and the third model had 0.67.\n",
        "The CNN model took the longest to train and still only got second place so it has a large time drawback and even if it were more accurate, it would not be worth it or time efficient.\n",
        "The sequential model was the best for this dataset and the third model was the worst in terms of accuracy but both were fast to train."
      ]
    }
  ],
  "metadata": {
    "colab": {
      "provenance": []
    },
    "kernelspec": {
      "display_name": "Python 3",
      "name": "python3"
    },
    "language_info": {
      "codemirror_mode": {
        "name": "ipython",
        "version": 3
      },
      "file_extension": ".py",
      "mimetype": "text/x-python",
      "name": "python",
      "nbconvert_exporter": "python",
      "pygments_lexer": "ipython3",
      "version": "3.11.1"
    }
  },
  "nbformat": 4,
  "nbformat_minor": 0
}
